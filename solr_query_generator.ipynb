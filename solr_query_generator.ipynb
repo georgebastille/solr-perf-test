{
 "cells": [
  {
   "cell_type": "code",
   "execution_count": 1,
   "id": "constant-closing",
   "metadata": {},
   "outputs": [
    {
     "data": {
      "application/vnd.jupyter.widget-view+json": {
       "model_id": "5fdf5a05fbc2474e8910b8856ae9385e",
       "version_major": 2,
       "version_minor": 0
      },
      "text/plain": [
       "HBox(children=(HTML(value=''), FloatProgress(value=0.0, max=1333789.0), HTML(value='')))"
      ]
     },
     "metadata": {},
     "output_type": "display_data"
    },
    {
     "name": "stdout",
     "output_type": "stream",
     "text": [
      "\n"
     ]
    }
   ],
   "source": [
    "import json\n",
    "from collections import Counter\n",
    "\n",
    "from tqdm.auto import tqdm\n",
    "\n",
    "doc_file = \"../input/HackerNewsStories.jsonl\"\n",
    "unigrams = Counter()\n",
    "bigrams = Counter()\n",
    "\n",
    "def extract_ngrams(toks, n):\n",
    "    #toks = text.split()\n",
    "    n_grams = []\n",
    "    for i in range(len(toks) - n +1):\n",
    "        tmp = [toks[j] for j in range(i, i+n)]\n",
    "        n_grams.append(\" \".join(tmp))\n",
    "    return n_grams\n",
    "\n",
    "def extract_n_from(counted, n):\n",
    "    top_section = 1./10000 * len(counted)\n",
    "    bottom_section = 1./100 * len(counted)\n",
    "    top_section = int(top_section)\n",
    "    bottom_section = int(bottom_section)\n",
    "    return counted.most_common()[top_section:top_section+n], \\\n",
    "           counted.most_common()[bottom_section:bottom_section+n]\n",
    "\n",
    "def write_out(dict_to_write, filename):\n",
    "    with open(filename, \"w\") as out:\n",
    "        for value in dict_to_write:\n",
    "            out.write(f\"{value[0]}\\n\")\n",
    "    \n",
    "    \n",
    "if __name__ == \"__main__\":\n",
    "\n",
    "    with open(doc_file, \"r\") as doc_handle:\n",
    "        for doc_json in tqdm(doc_handle, total=1333789):\n",
    "            doc_dict = json.loads(doc_json)\n",
    "            title_toks = doc_dict.get(\"title\", \"\").lower().split()\n",
    "            unigrams.update(title_toks)\n",
    "            bigrams.update(extract_ngrams(title_toks, 2))\n",
    "            \n",
    "    unigram_top, unigram_bottom = extract_n_from(unigrams, 1000)\n",
    "    bigram_top, bigram_bottom = extract_n_from(bigrams, 1000)\n",
    "    \n",
    "    write_out(unigram_top, \"unigram_top.txt\")\n",
    "    write_out(unigram_bottom, \"unigram_bottom.txt\")\n",
    "    write_out(bigram_top, \"bigram_top.txt\")\n",
    "    write_out(bigram_bottom, \"bigram_bottom.txt\")"
   ]
  }
 ],
 "metadata": {
  "kernelspec": {
   "display_name": "Python 3",
   "language": "python",
   "name": "python3"
  },
  "language_info": {
   "codemirror_mode": {
    "name": "ipython",
    "version": 3
   },
   "file_extension": ".py",
   "mimetype": "text/x-python",
   "name": "python",
   "nbconvert_exporter": "python",
   "pygments_lexer": "ipython3",
   "version": "3.8.5"
  }
 },
 "nbformat": 4,
 "nbformat_minor": 5
}
